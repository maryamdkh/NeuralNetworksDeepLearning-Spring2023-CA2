{
  "nbformat": 4,
  "nbformat_minor": 0,
  "metadata": {
    "colab": {
      "provenance": []
    },
    "kernelspec": {
      "name": "python3",
      "display_name": "Python 3"
    },
    "language_info": {
      "name": "python"
    }
  },
  "cells": [
    {
      "cell_type": "code",
      "source": [
        "from google.colab import files\n",
        "import os\n",
        "import zipfile\n",
        "\n",
        "import numpy as np\n",
        "import random\n"
      ],
      "metadata": {
        "id": "P076bg22bcee"
      },
      "execution_count": null,
      "outputs": []
    },
    {
      "cell_type": "code",
      "source": [
        "uploaded = files.upload()"
      ],
      "metadata": {
        "colab": {
          "base_uri": "https://localhost:8080/",
          "height": 73
        },
        "id": "cq5yDFZrbetm",
        "outputId": "ea12ade6-04f6-4bf3-ebbe-87e8714f6502"
      },
      "execution_count": null,
      "outputs": [
        {
          "output_type": "display_data",
          "data": {
            "text/plain": [
              "<IPython.core.display.HTML object>"
            ],
            "text/html": [
              "\n",
              "     <input type=\"file\" id=\"files-b0837295-22d9-4f94-af6c-fdc5e5a9617f\" name=\"files[]\" multiple disabled\n",
              "        style=\"border:none\" />\n",
              "     <output id=\"result-b0837295-22d9-4f94-af6c-fdc5e5a9617f\">\n",
              "      Upload widget is only available when the cell has been executed in the\n",
              "      current browser session. Please rerun this cell to enable.\n",
              "      </output>\n",
              "      <script>// Copyright 2017 Google LLC\n",
              "//\n",
              "// Licensed under the Apache License, Version 2.0 (the \"License\");\n",
              "// you may not use this file except in compliance with the License.\n",
              "// You may obtain a copy of the License at\n",
              "//\n",
              "//      http://www.apache.org/licenses/LICENSE-2.0\n",
              "//\n",
              "// Unless required by applicable law or agreed to in writing, software\n",
              "// distributed under the License is distributed on an \"AS IS\" BASIS,\n",
              "// WITHOUT WARRANTIES OR CONDITIONS OF ANY KIND, either express or implied.\n",
              "// See the License for the specific language governing permissions and\n",
              "// limitations under the License.\n",
              "\n",
              "/**\n",
              " * @fileoverview Helpers for google.colab Python module.\n",
              " */\n",
              "(function(scope) {\n",
              "function span(text, styleAttributes = {}) {\n",
              "  const element = document.createElement('span');\n",
              "  element.textContent = text;\n",
              "  for (const key of Object.keys(styleAttributes)) {\n",
              "    element.style[key] = styleAttributes[key];\n",
              "  }\n",
              "  return element;\n",
              "}\n",
              "\n",
              "// Max number of bytes which will be uploaded at a time.\n",
              "const MAX_PAYLOAD_SIZE = 100 * 1024;\n",
              "\n",
              "function _uploadFiles(inputId, outputId) {\n",
              "  const steps = uploadFilesStep(inputId, outputId);\n",
              "  const outputElement = document.getElementById(outputId);\n",
              "  // Cache steps on the outputElement to make it available for the next call\n",
              "  // to uploadFilesContinue from Python.\n",
              "  outputElement.steps = steps;\n",
              "\n",
              "  return _uploadFilesContinue(outputId);\n",
              "}\n",
              "\n",
              "// This is roughly an async generator (not supported in the browser yet),\n",
              "// where there are multiple asynchronous steps and the Python side is going\n",
              "// to poll for completion of each step.\n",
              "// This uses a Promise to block the python side on completion of each step,\n",
              "// then passes the result of the previous step as the input to the next step.\n",
              "function _uploadFilesContinue(outputId) {\n",
              "  const outputElement = document.getElementById(outputId);\n",
              "  const steps = outputElement.steps;\n",
              "\n",
              "  const next = steps.next(outputElement.lastPromiseValue);\n",
              "  return Promise.resolve(next.value.promise).then((value) => {\n",
              "    // Cache the last promise value to make it available to the next\n",
              "    // step of the generator.\n",
              "    outputElement.lastPromiseValue = value;\n",
              "    return next.value.response;\n",
              "  });\n",
              "}\n",
              "\n",
              "/**\n",
              " * Generator function which is called between each async step of the upload\n",
              " * process.\n",
              " * @param {string} inputId Element ID of the input file picker element.\n",
              " * @param {string} outputId Element ID of the output display.\n",
              " * @return {!Iterable<!Object>} Iterable of next steps.\n",
              " */\n",
              "function* uploadFilesStep(inputId, outputId) {\n",
              "  const inputElement = document.getElementById(inputId);\n",
              "  inputElement.disabled = false;\n",
              "\n",
              "  const outputElement = document.getElementById(outputId);\n",
              "  outputElement.innerHTML = '';\n",
              "\n",
              "  const pickedPromise = new Promise((resolve) => {\n",
              "    inputElement.addEventListener('change', (e) => {\n",
              "      resolve(e.target.files);\n",
              "    });\n",
              "  });\n",
              "\n",
              "  const cancel = document.createElement('button');\n",
              "  inputElement.parentElement.appendChild(cancel);\n",
              "  cancel.textContent = 'Cancel upload';\n",
              "  const cancelPromise = new Promise((resolve) => {\n",
              "    cancel.onclick = () => {\n",
              "      resolve(null);\n",
              "    };\n",
              "  });\n",
              "\n",
              "  // Wait for the user to pick the files.\n",
              "  const files = yield {\n",
              "    promise: Promise.race([pickedPromise, cancelPromise]),\n",
              "    response: {\n",
              "      action: 'starting',\n",
              "    }\n",
              "  };\n",
              "\n",
              "  cancel.remove();\n",
              "\n",
              "  // Disable the input element since further picks are not allowed.\n",
              "  inputElement.disabled = true;\n",
              "\n",
              "  if (!files) {\n",
              "    return {\n",
              "      response: {\n",
              "        action: 'complete',\n",
              "      }\n",
              "    };\n",
              "  }\n",
              "\n",
              "  for (const file of files) {\n",
              "    const li = document.createElement('li');\n",
              "    li.append(span(file.name, {fontWeight: 'bold'}));\n",
              "    li.append(span(\n",
              "        `(${file.type || 'n/a'}) - ${file.size} bytes, ` +\n",
              "        `last modified: ${\n",
              "            file.lastModifiedDate ? file.lastModifiedDate.toLocaleDateString() :\n",
              "                                    'n/a'} - `));\n",
              "    const percent = span('0% done');\n",
              "    li.appendChild(percent);\n",
              "\n",
              "    outputElement.appendChild(li);\n",
              "\n",
              "    const fileDataPromise = new Promise((resolve) => {\n",
              "      const reader = new FileReader();\n",
              "      reader.onload = (e) => {\n",
              "        resolve(e.target.result);\n",
              "      };\n",
              "      reader.readAsArrayBuffer(file);\n",
              "    });\n",
              "    // Wait for the data to be ready.\n",
              "    let fileData = yield {\n",
              "      promise: fileDataPromise,\n",
              "      response: {\n",
              "        action: 'continue',\n",
              "      }\n",
              "    };\n",
              "\n",
              "    // Use a chunked sending to avoid message size limits. See b/62115660.\n",
              "    let position = 0;\n",
              "    do {\n",
              "      const length = Math.min(fileData.byteLength - position, MAX_PAYLOAD_SIZE);\n",
              "      const chunk = new Uint8Array(fileData, position, length);\n",
              "      position += length;\n",
              "\n",
              "      const base64 = btoa(String.fromCharCode.apply(null, chunk));\n",
              "      yield {\n",
              "        response: {\n",
              "          action: 'append',\n",
              "          file: file.name,\n",
              "          data: base64,\n",
              "        },\n",
              "      };\n",
              "\n",
              "      let percentDone = fileData.byteLength === 0 ?\n",
              "          100 :\n",
              "          Math.round((position / fileData.byteLength) * 100);\n",
              "      percent.textContent = `${percentDone}% done`;\n",
              "\n",
              "    } while (position < fileData.byteLength);\n",
              "  }\n",
              "\n",
              "  // All done.\n",
              "  yield {\n",
              "    response: {\n",
              "      action: 'complete',\n",
              "    }\n",
              "  };\n",
              "}\n",
              "\n",
              "scope.google = scope.google || {};\n",
              "scope.google.colab = scope.google.colab || {};\n",
              "scope.google.colab._files = {\n",
              "  _uploadFiles,\n",
              "  _uploadFilesContinue,\n",
              "};\n",
              "})(self);\n",
              "</script> "
            ]
          },
          "metadata": {}
        },
        {
          "output_type": "stream",
          "name": "stdout",
          "text": [
            "Saving kaggle.json to kaggle.json\n"
          ]
        }
      ]
    },
    {
      "cell_type": "code",
      "source": [
        "# %mv /content/sample"
      ],
      "metadata": {
        "colab": {
          "base_uri": "https://localhost:8080/"
        },
        "id": "n1lXh4WC5QSq",
        "outputId": "3f5d3a76-489a-49de-befc-9a7ff321a371"
      },
      "execution_count": null,
      "outputs": [
        {
          "output_type": "stream",
          "name": "stdout",
          "text": [
            "/root\n"
          ]
        }
      ]
    },
    {
      "cell_type": "code",
      "source": [
        "!mkdir ~/.kaggle\n",
        "!cp kaggle.json ~/.kaggle/\n",
        "!chmod 600 /root/.kaggle/kaggle.json"
      ],
      "metadata": {
        "id": "6zuIeL_Lbin0"
      },
      "execution_count": null,
      "outputs": []
    },
    {
      "cell_type": "code",
      "source": [
        "!kaggle datasets download paultimothymooney/chest-xray-pneumonia"
      ],
      "metadata": {
        "colab": {
          "base_uri": "https://localhost:8080/"
        },
        "id": "dtD7l9hBbt5B",
        "outputId": "1c753e57-d2ca-4e97-fe3f-b9ac9af5cd67"
      },
      "execution_count": null,
      "outputs": [
        {
          "output_type": "stream",
          "name": "stdout",
          "text": [
            "Downloading chest-xray-pneumonia.zip to /content\n",
            " 99% 2.28G/2.29G [00:13<00:00, 186MB/s]\n",
            "100% 2.29G/2.29G [00:13<00:00, 186MB/s]\n"
          ]
        }
      ]
    },
    {
      "cell_type": "code",
      "source": [
        "with zipfile.ZipFile('chest-xray-pneumonia.zip', 'r') as zf:\n",
        "  zf.extractall()"
      ],
      "metadata": {
        "id": "Hi3MMQw6c4ce"
      },
      "execution_count": null,
      "outputs": []
    },
    {
      "cell_type": "code",
      "source": [
        "# %rm -r /content/chest_xray/all_data/PNEUMONIA\n",
        "# %rm -r /content/chest_xray/all_data/NORMAL"
      ],
      "metadata": {
        "id": "4ZJRL5c8uNJl"
      },
      "execution_count": null,
      "outputs": []
    },
    {
      "cell_type": "code",
      "source": [
        "# %mkdir /content/chest_xray/all_data/PNEUMONIA\n",
        "# %mkdir /content/chest_xray/all_data/NORMAL"
      ],
      "metadata": {
        "id": "BcSbnCQcvfZF"
      },
      "execution_count": null,
      "outputs": []
    },
    {
      "cell_type": "code",
      "source": [
        "# %rm -r /content/chest_xray/splitted_data/test/NORMAL/\n",
        "# %rm -r /content/chest_xray/splitted_data/test/PNEUMONIA/\n",
        "# %rm -r /content/chest_xray/splitted_data/train/NORMAL/\n",
        "# %rm -r /content/chest_xray/splitted_data/train/PNEUMONIA/\n",
        "# %rm -r /content/chest_xray/splitted_data/val/NORMAL/\n",
        "# %rm -r /content/chest_xray/splitted_data/val/PNEUMONIA/\n",
        "\n",
        "# %mkdir /content/chest_xray/splitted_data/test/NORMAL\n",
        "# %mkdir /content/chest_xray/splitted_data/test/PNEUMONIA\n",
        "# %mkdir /content/chest_xray/splitted_data/train/NORMAL\n",
        "# %mkdir /content/chest_xray/splitted_data/train/PNEUMONIA\n",
        "# %mkdir /content/chest_xray/splitted_data/val/NORMAL\n",
        "# %mkdir /content/chest_xray/splitted_data/val/PNEUMONIA\n"
      ],
      "metadata": {
        "id": "EjxZ_cmSdhOI"
      },
      "execution_count": null,
      "outputs": []
    },
    {
      "cell_type": "code",
      "source": [
        "x = !ls /content/chest_xray/splitted_data/test/NORMAL | wc -l\n",
        "y = !ls /content/chest_xray/splitted_data/test/PNEUMONIA | wc -l\n",
        "(int(x[0]) + int(y[0])) / 5863\n"
      ],
      "metadata": {
        "colab": {
          "base_uri": "https://localhost:8080/"
        },
        "id": "Y95tW5q7fpW6",
        "outputId": "a09ce4e7-e038-4cd5-c9b8-6afc8b7c2135"
      },
      "execution_count": null,
      "outputs": [
        {
          "output_type": "execute_result",
          "data": {
            "text/plain": [
              "0.19955654101995565"
            ]
          },
          "metadata": {},
          "execution_count": 47
        }
      ]
    },
    {
      "cell_type": "code",
      "source": [
        "x = !ls /content/chest_xray/splitted_data/train/NORMAL | wc -l\n",
        "y = !ls /content/chest_xray/splitted_data/train/PNEUMONIA | wc -l\n",
        "(int(x[0]) + int(y[0])) / 5863"
      ],
      "metadata": {
        "colab": {
          "base_uri": "https://localhost:8080/"
        },
        "id": "EeiH18HYhqIE",
        "outputId": "18cf8d93-af26-44ef-9e5c-0596fc91b599"
      },
      "execution_count": null,
      "outputs": [
        {
          "output_type": "execute_result",
          "data": {
            "text/plain": [
              "0.5990107453522088"
            ]
          },
          "metadata": {},
          "execution_count": 48
        }
      ]
    },
    {
      "cell_type": "code",
      "source": [
        "x = !ls /content/chest_xray/splitted_data/val/NORMAL | wc -l\n",
        "y = !ls /content/chest_xray/splitted_data/val/PNEUMONIA | wc -l\n",
        "(int(x[0]) + int(y[0])) / 5863"
      ],
      "metadata": {
        "colab": {
          "base_uri": "https://localhost:8080/"
        },
        "id": "K7YE2-9Chswy",
        "outputId": "5096a753-2db4-4523-d5db-beeefca1bcb0"
      },
      "execution_count": null,
      "outputs": [
        {
          "output_type": "execute_result",
          "data": {
            "text/plain": [
              "0.20023878560463926"
            ]
          },
          "metadata": {},
          "execution_count": 49
        }
      ]
    },
    {
      "cell_type": "code",
      "source": [
        "# %mkdir /content/chest_xray/all_data\n",
        "# %cp /content/chest_xray/test/NORMAL/* /content/chest_xray/all_data/NORMAL -r\n",
        "# %cp /content/chest_xray/val/NORMAL/* /content/chest_xray/all_data/NORMAL -r\n",
        "# %cp /content/chest_xray/train/NORMAL/* /content/chest_xray/all_data/NORMAL -r\n",
        "\n",
        "# %cp /content/chest_xray/test/PNEUMONIA/* /content/chest_xray/all_data/PNEUMONIA -r\n",
        "# %cp /content/chest_xray/val/PNEUMONIA/* /content/chest_xray/all_data/PNEUMONIA -r\n",
        "# %cp /content/chest_xray/train/PNEUMONIA/* /content/chest_xray/all_data/PNEUMONIA -r"
      ],
      "metadata": {
        "id": "PceqhL9Ih6cW"
      },
      "execution_count": null,
      "outputs": []
    },
    {
      "cell_type": "code",
      "source": [
        "!ls /content/chest_xray/all_data/NORMAL | wc -l"
      ],
      "metadata": {
        "colab": {
          "base_uri": "https://localhost:8080/"
        },
        "id": "-V5PadI_xIil",
        "outputId": "00d1fcc0-194d-414e-a4ed-68102ce3c74e"
      },
      "execution_count": null,
      "outputs": [
        {
          "output_type": "stream",
          "name": "stdout",
          "text": [
            "1583\n"
          ]
        }
      ]
    },
    {
      "cell_type": "code",
      "source": [
        "!ls /content/chest_xray/all_data/PNEUMONIA | wc -l"
      ],
      "metadata": {
        "colab": {
          "base_uri": "https://localhost:8080/"
        },
        "id": "j2i_LSXsxNHE",
        "outputId": "dbc88845-1443-45c5-a2ec-e98efac0c8cf"
      },
      "execution_count": null,
      "outputs": [
        {
          "output_type": "stream",
          "name": "stdout",
          "text": [
            "4273\n"
          ]
        }
      ]
    },
    {
      "cell_type": "code",
      "source": [
        "x = !ls /content/chest_xray/all_data/NORMAL | wc -l\n",
        "y = !ls /content/chest_xray/all_data/PNEUMONIA | wc -l\n",
        "(int(x[0]) + int(y[0]))"
      ],
      "metadata": {
        "id": "BCZBg708iO2V"
      },
      "execution_count": null,
      "outputs": []
    },
    {
      "cell_type": "code",
      "source": [
        "%cd /content/chest_xray/all_data/NORMAL\n",
        "%ls"
      ],
      "metadata": {
        "id": "EUd99GfNlAN-"
      },
      "execution_count": null,
      "outputs": []
    },
    {
      "cell_type": "code",
      "source": [
        "#set directories\n",
        "directory_NORMAL = str('/content/chest_xray/all_data/NORMAL')\n",
        "directory_PNEUMONIA = str('/content/chest_xray/all_data/PNEUMONIA')\n",
        "\n",
        "\n",
        "# list all files in dir that are an image\n",
        "files_NORMAL = [f for f in os.listdir(directory_NORMAL) if f.endswith('.jpeg')]\n",
        "files_PNEUMONIA = [f for f in os.listdir(directory_PNEUMONIA) if f.endswith('.jpeg')]\n",
        "\n",
        "\n",
        "# print(len(files_NORMAL))\n",
        "# print(len(files_PNEUMONIA))\n",
        "\n",
        "text_val_per_normal =  int(len(files_NORMAL)*0.2)\n",
        "train_per_normal =  int(len(files_NORMAL)*0.6)\n",
        "\n",
        "text_val_per_PNEUMONIA =  int(len(files_PNEUMONIA)*0.2)\n",
        "train_per_PNEUMONIA =  int(len(files_PNEUMONIA)*0.6)"
      ],
      "metadata": {
        "id": "oM1t5dlzr1Kt"
      },
      "execution_count": null,
      "outputs": []
    },
    {
      "cell_type": "code",
      "source": [
        "\n",
        "print(len(files_NORMAL))\n",
        "print(len(files_PNEUMONIA))\n",
        "\n",
        "print(text_val_per_normal)\n",
        "print(train_per_normal)\n",
        "\n",
        "print(text_val_per_PNEUMONIA)\n",
        "print(train_per_PNEUMONIA)\n"
      ],
      "metadata": {
        "colab": {
          "base_uri": "https://localhost:8080/"
        },
        "id": "sJdg84zvtw8A",
        "outputId": "210e1a14-3e63-4ef4-8937-9240c9a8a147"
      },
      "execution_count": null,
      "outputs": [
        {
          "output_type": "stream",
          "name": "stdout",
          "text": [
            "1583\n",
            "4273\n",
            "316\n",
            "949\n",
            "854\n",
            "2563\n"
          ]
        }
      ]
    },
    {
      "cell_type": "code",
      "source": [
        "target_directory_NORMAL  = str('/content/chest_xray/splitted_data/val/NORMAL')\n",
        "target_directory_PNEUMONIA  = str('/content/chest_xray/splitted_data/val/PNEUMONIA')\n",
        "\n",
        "# list all files in dir that are an image\n",
        "files_NORMAL = [f for f in os.listdir(directory_NORMAL) if f.endswith('.jpeg')]\n",
        "files_PNEUMONIA = [f for f in os.listdir(directory_PNEUMONIA) if f.endswith('.jpeg')]\n",
        "\n",
        "# select a percent of the files randomly \n",
        "random_files_NORMAL = random.sample(files_NORMAL, len(files_NORMAL))\n",
        "random_files_PNEUMONIA = random.sample(files_PNEUMONIA,len(files_PNEUMONIA))\n",
        "\n",
        "#random_files = np.random.choice(files, int(len(files)*data_set_percent_size))\n",
        "\n",
        "print(len(files_NORMAL))\n",
        "print(len(files_PNEUMONIA))\n",
        "\n"
      ],
      "metadata": {
        "colab": {
          "base_uri": "https://localhost:8080/"
        },
        "id": "IXhXkCNQmvUB",
        "outputId": "0f0a8136-4093-445d-8827-86be567188d6"
      },
      "execution_count": null,
      "outputs": [
        {
          "output_type": "stream",
          "name": "stdout",
          "text": [
            "318\n",
            "856\n"
          ]
        }
      ]
    },
    {
      "cell_type": "code",
      "source": [
        "# move the randomly selected images by renaming directory \n",
        "for random_file_name in random_files_NORMAL:      \n",
        "    os.rename(directory_NORMAL+'/'+random_file_name, target_directory_NORMAL+'/'+random_file_name)\n",
        "    continue\n",
        "\n",
        "for random_file_name in random_files_PNEUMONIA:      \n",
        "    os.rename(directory_PNEUMONIA+'/'+random_file_name, target_directory_PNEUMONIA+'/'+random_file_name)\n",
        "    continue"
      ],
      "metadata": {
        "id": "E0H88rj3oFJ9"
      },
      "execution_count": null,
      "outputs": []
    }
  ]
}